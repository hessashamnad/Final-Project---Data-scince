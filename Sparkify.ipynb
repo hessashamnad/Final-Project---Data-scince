{
 "cells": [
  {
   "cell_type": "markdown",
   "metadata": {},
   "source": [
    "# Sparkify Project Workspace\n",
    "This workspace contains a tiny subset (128MB) of the full dataset available (12GB). Feel free to use this workspace to build your project, or to explore a smaller subset with Spark before deploying your cluster on the cloud. Instructions for setting up your Spark cluster is included in the last lesson of the Extracurricular Spark Course content.\n",
    "\n",
    "You can follow the steps below to guide your data analysis and model building portion of this project."
   ]
  },
  {
   "cell_type": "code",
   "execution_count": 49,
   "metadata": {},
   "outputs": [],
   "source": [
    "# import libraries\n",
    "import os\n",
    "import re\n",
    "import copy\n",
    "import time\n",
    "import datetime\n",
    "import numpy as np\n",
    "import pandas as pd\n",
    "import seaborn as sns\n",
    "from seaborn import barplot,countplot\n",
    "import matplotlib.pyplot as plt\n",
    "\n",
    "\n",
    "from pyspark.sql import SparkSession\n",
    "from pyspark.sql.functions import col, lit, udf, isnan, count, when, desc, sort_array, asc, avg, lag, floor\n",
    "from pyspark.sql.types import IntegerType, DateType\n",
    "from pyspark.sql.window import Window\n",
    "from pyspark.ml.feature import VectorAssembler\n",
    "from pyspark.ml.feature import MinMaxScaler #used because won't distort binary vars\n",
    "from pyspark.sql.types import DoubleType\n",
    "from pyspark.ml.tuning import CrossValidator, ParamGridBuilder\n",
    "import datetime\n",
    "from pyspark.ml import Pipeline \n",
    "from pyspark.ml.classification import LogisticRegression, RandomForestClassifier, LinearSVC, GBTClassifier\n",
    "from pyspark.ml.evaluation import BinaryClassificationEvaluator\n",
    "from pyspark.mllib.evaluation import MulticlassMetrics\n",
    "from pyspark.sql.functions import min as Fmin, max as Fmax, sum as Fsum, round as Fround\n",
    "\n",
    "from sklearn.metrics import f1_score, precision_score, recall_score, accuracy_score\n"
   ]
  },
  {
   "cell_type": "code",
   "execution_count": 5,
   "metadata": {},
   "outputs": [
    {
     "name": "stdout",
     "output_type": "stream",
     "text": [
      "root\n",
      " |-- artist: string (nullable = true)\n",
      " |-- auth: string (nullable = true)\n",
      " |-- firstName: string (nullable = true)\n",
      " |-- gender: string (nullable = true)\n",
      " |-- itemInSession: long (nullable = true)\n",
      " |-- lastName: string (nullable = true)\n",
      " |-- length: double (nullable = true)\n",
      " |-- level: string (nullable = true)\n",
      " |-- location: string (nullable = true)\n",
      " |-- method: string (nullable = true)\n",
      " |-- page: string (nullable = true)\n",
      " |-- registration: long (nullable = true)\n",
      " |-- sessionId: long (nullable = true)\n",
      " |-- song: string (nullable = true)\n",
      " |-- status: long (nullable = true)\n",
      " |-- ts: long (nullable = true)\n",
      " |-- userAgent: string (nullable = true)\n",
      " |-- userId: string (nullable = true)\n",
      "\n"
     ]
    }
   ],
   "source": [
    "# create a Spark session\n",
    "spark = SparkSession.builder \\\n",
    "    .master(\"local\") \\\n",
    "    .appName(\"Identify Features\") \\\n",
    "    .getOrCreate()\n",
    "\n",
    "df = spark.read.json('mini_sparkify_event_data.json')\n",
    "\n",
    "# Print schema for future reference\n",
    "df.printSchema()\n"
   ]
  },
  {
   "cell_type": "markdown",
   "metadata": {},
   "source": [
    "# Load and Clean Dataset\n",
    "In this workspace, the mini-dataset file is `mini_sparkify_event_data.json`. Load and clean the dataset, checking for invalid or missing data - for example, records without userids or sessionids. "
   ]
  },
  {
   "cell_type": "code",
   "execution_count": 6,
   "metadata": {},
   "outputs": [
    {
     "name": "stdout",
     "output_type": "stream",
     "text": [
      "Empty userIds: 0\n"
     ]
    }
   ],
   "source": [
    "#clean dataset with empty userid\n",
    "df = df.filter(df.userId != \"\")\n",
    "print(f\"Empty userIds: {df.filter(df.userId == '').count()}\")"
   ]
  },
  {
   "cell_type": "markdown",
   "metadata": {},
   "source": [
    "# Exploratory Data Analysis\n",
    "When you're working with the full dataset, perform EDA by loading a small subset of the data and doing basic manipulations within Spark. In this workspace, you are already provided a small subset of data you can explore.\n",
    "\n",
    "### Define Churn\n",
    "\n",
    "Once you've done some preliminary analysis, create a column `Churn` to use as the label for your model. I suggest using the `Cancellation Confirmation` events to define your churn, which happen for both paid and free users. As a bonus task, you can also look into the `Downgrade` events.\n",
    "\n",
    "### Explore Data\n",
    "Once you've defined churn, perform some exploratory data analysis to observe the behavior for users who stayed vs users who churned. You can start by exploring aggregates on these two groups of users, observing how much of a specific action they experienced per a certain time unit or number of songs played."
   ]
  },
  {
   "cell_type": "code",
   "execution_count": 7,
   "metadata": {},
   "outputs": [
    {
     "name": "stdout",
     "output_type": "stream",
     "text": [
      "root\n",
      " |-- artist: string (nullable = true)\n",
      " |-- auth: string (nullable = true)\n",
      " |-- firstName: string (nullable = true)\n",
      " |-- gender: string (nullable = true)\n",
      " |-- itemInSession: long (nullable = true)\n",
      " |-- lastName: string (nullable = true)\n",
      " |-- length: double (nullable = true)\n",
      " |-- level: string (nullable = true)\n",
      " |-- location: string (nullable = true)\n",
      " |-- method: string (nullable = true)\n",
      " |-- page: string (nullable = true)\n",
      " |-- registration: long (nullable = true)\n",
      " |-- sessionId: long (nullable = true)\n",
      " |-- song: string (nullable = true)\n",
      " |-- status: long (nullable = true)\n",
      " |-- ts: long (nullable = true)\n",
      " |-- userAgent: string (nullable = true)\n",
      " |-- userId: string (nullable = true)\n",
      "\n"
     ]
    }
   ],
   "source": [
    "# observation\n",
    "df.printSchema()"
   ]
  },
  {
   "cell_type": "code",
   "execution_count": 8,
   "metadata": {},
   "outputs": [
    {
     "data": {
      "text/plain": [
       "[Row(artist='Martha Tilston', auth='Logged In', firstName='Colin', gender='M', itemInSession=50, lastName='Freeman', length=277.89016, level='paid', location='Bakersfield, CA', method='PUT', page='NextSong', registration=1538173362000, sessionId=29, song='Rockpools', status=200, ts=1538352117000, userAgent='Mozilla/5.0 (Windows NT 6.1; WOW64; rv:31.0) Gecko/20100101 Firefox/31.0', userId='30'),\n",
       " Row(artist='Five Iron Frenzy', auth='Logged In', firstName='Micah', gender='M', itemInSession=79, lastName='Long', length=236.09424, level='free', location='Boston-Cambridge-Newton, MA-NH', method='PUT', page='NextSong', registration=1538331630000, sessionId=8, song='Canada', status=200, ts=1538352180000, userAgent='\"Mozilla/5.0 (Windows NT 6.1; WOW64) AppleWebKit/537.36 (KHTML, like Gecko) Chrome/37.0.2062.103 Safari/537.36\"', userId='9'),\n",
       " Row(artist='Adam Lambert', auth='Logged In', firstName='Colin', gender='M', itemInSession=51, lastName='Freeman', length=282.8273, level='paid', location='Bakersfield, CA', method='PUT', page='NextSong', registration=1538173362000, sessionId=29, song='Time For Miracles', status=200, ts=1538352394000, userAgent='Mozilla/5.0 (Windows NT 6.1; WOW64; rv:31.0) Gecko/20100101 Firefox/31.0', userId='30'),\n",
       " Row(artist='Enigma', auth='Logged In', firstName='Micah', gender='M', itemInSession=80, lastName='Long', length=262.71302, level='free', location='Boston-Cambridge-Newton, MA-NH', method='PUT', page='NextSong', registration=1538331630000, sessionId=8, song='Knocking On Forbidden Doors', status=200, ts=1538352416000, userAgent='\"Mozilla/5.0 (Windows NT 6.1; WOW64) AppleWebKit/537.36 (KHTML, like Gecko) Chrome/37.0.2062.103 Safari/537.36\"', userId='9'),\n",
       " Row(artist='Daft Punk', auth='Logged In', firstName='Colin', gender='M', itemInSession=52, lastName='Freeman', length=223.60771, level='paid', location='Bakersfield, CA', method='PUT', page='NextSong', registration=1538173362000, sessionId=29, song='Harder Better Faster Stronger', status=200, ts=1538352676000, userAgent='Mozilla/5.0 (Windows NT 6.1; WOW64; rv:31.0) Gecko/20100101 Firefox/31.0', userId='30')]"
      ]
     },
     "execution_count": 8,
     "metadata": {},
     "output_type": "execute_result"
    }
   ],
   "source": [
    "# Look at first 5 rows for sample\n",
    "df.take(5)"
   ]
  },
  {
   "cell_type": "code",
   "execution_count": 9,
   "metadata": {},
   "outputs": [
    {
     "data": {
      "text/plain": [
       "225"
      ]
     },
     "execution_count": 9,
     "metadata": {},
     "output_type": "execute_result"
    }
   ],
   "source": [
    "# Amount of users \n",
    "df.select(\"userId\").dropDuplicates().count()"
   ]
  },
  {
   "cell_type": "code",
   "execution_count": 10,
   "metadata": {},
   "outputs": [
    {
     "data": {
      "text/plain": [
       "2312"
      ]
     },
     "execution_count": 10,
     "metadata": {},
     "output_type": "execute_result"
    }
   ],
   "source": [
    "# Amount of sessions\n",
    "df.select(\"sessionId\").dropDuplicates().count()"
   ]
  },
  {
   "cell_type": "code",
   "execution_count": 11,
   "metadata": {},
   "outputs": [],
   "source": [
    "churn = udf(lambda x: int(x==\"Cancellation Confirmation\"), IntegerType())\n",
    "downgrade_churn = udf(lambda x: int(x==\"Submit Downgrade\"), IntegerType())\n",
    "\n",
    "df = df.withColumn(\"downgraded\", downgrade_churn(\"page\")).withColumn(\"cancelled\", churn(\"page\"))"
   ]
  },
  {
   "cell_type": "code",
   "execution_count": 12,
   "metadata": {},
   "outputs": [
    {
     "name": "stdout",
     "output_type": "stream",
     "text": [
      "+-------+------------------+------------------+------------------+\n",
      "|summary|            userId|        downgraded|         cancelled|\n",
      "+-------+------------------+------------------+------------------+\n",
      "|  count|               225|               225|               225|\n",
      "|   mean|65391.013333333336|              0.28|0.2311111111111111|\n",
      "| stddev|105396.47791907164|0.5876709477736184|0.4224832108996327|\n",
      "|    min|                10|                 0|                 0|\n",
      "|    max|                99|                 3|                 1|\n",
      "+-------+------------------+------------------+------------------+\n",
      "\n"
     ]
    }
   ],
   "source": [
    "#Distribution of user downgrades and cancellations\n",
    "df.select(['userId', 'downgraded', 'cancelled'])\\\n",
    "    .groupBy('userId').sum()\\\n",
    "    .withColumnRenamed('sum(downgraded)', 'downgraded')\\\n",
    "    .withColumnRenamed('sum(cancelled)', 'cancelled').describe().show()"
   ]
  },
  {
   "cell_type": "code",
   "execution_count": 13,
   "metadata": {},
   "outputs": [],
   "source": [
    "windowvalue = Window.partitionBy(\"userId\").orderBy(desc(\"ts\")).rangeBetween(Window.unboundedPreceding, 0)\n",
    "\n",
    "\n",
    "df = df.withColumn(\"churn_phase\", Fsum(\"cancelled\").over(windowvalue))\\\n",
    "    .withColumn(\"downgrade_phase\", Fsum(\"downgraded\").over(windowvalue))"
   ]
  },
  {
   "cell_type": "code",
   "execution_count": 14,
   "metadata": {},
   "outputs": [],
   "source": [
    "get_day = udf(lambda x: datetime.datetime.fromtimestamp(x/1000), DateType())"
   ]
  },
  {
   "cell_type": "code",
   "execution_count": 15,
   "metadata": {},
   "outputs": [],
   "source": [
    "song=udf(lambda x : int(x=='NextSong'), IntegerType())\n",
    "home_visit=udf(lambda x : int(x=='Home'), IntegerType())\n",
    "df = df.withColumn('date', get_day(col('ts')))"
   ]
  },
  {
   "cell_type": "code",
   "execution_count": 16,
   "metadata": {},
   "outputs": [
    {
     "name": "stdout",
     "output_type": "stream",
     "text": [
      "+------------------+\n",
      "|   avg(songPlayed)|\n",
      "+------------------+\n",
      "|0.8112072039942939|\n",
      "+------------------+\n",
      "\n",
      "+------------------+\n",
      "|   avg(songPlayed)|\n",
      "+------------------+\n",
      "|0.8217840456084702|\n",
      "+------------------+\n",
      "\n"
     ]
    }
   ],
   "source": [
    "df.filter(col('churn_phase')==1).withColumn('songPlayed', song(col('page'))).agg({'songPlayed':'mean'}).show()\n",
    "df.filter(col('churn_phase')==0).withColumn('songPlayed', song(col('page'))).agg({'songPlayed':'mean'}).show()"
   ]
  },
  {
   "cell_type": "code",
   "execution_count": 17,
   "metadata": {},
   "outputs": [],
   "source": [
    "days = lambda i: i * 86400 \n",
    "daywindow = Window.partitionBy('userId', 'date').orderBy(desc('ts')).rangeBetween(Window.unboundedPreceding, 0)\n",
    "get_day = udf(lambda x: datetime.datetime.fromtimestamp(x/1000), DateType())"
   ]
  },
  {
   "cell_type": "code",
   "execution_count": 18,
   "metadata": {},
   "outputs": [
    {
     "name": "stdout",
     "output_type": "stream",
     "text": [
      "+-------+-----------------+-----------------+\n",
      "|summary|           userId|            count|\n",
      "+-------+-----------------+-----------------+\n",
      "|  count|              499|              499|\n",
      "|   mean|77394.81563126252|72.93386773547094|\n",
      "| stddev|90869.89716037885|71.24764235703725|\n",
      "|    min|           100001|                1|\n",
      "|    max|               87|              346|\n",
      "+-------+-----------------+-----------------+\n",
      "\n",
      "+-------+------------------+-----------------+\n",
      "|summary|            userId|            count|\n",
      "+-------+------------------+-----------------+\n",
      "|  count|              2559|             2559|\n",
      "|   mean| 64501.19812426729|74.91754591637358|\n",
      "| stddev|114144.74005493976|74.02407951472078|\n",
      "|    min|                10|                1|\n",
      "|    max|                99|              360|\n",
      "+-------+------------------+-----------------+\n",
      "\n"
     ]
    }
   ],
   "source": [
    "#number of songs played daily\n",
    "df.filter((df.page=='NextSong')&(col('churn_phase')==1)).select('userId', 'page', 'ts')\\\n",
    "    .withColumn('date', get_day(col('ts'))).groupBy('userId', 'date').count().describe().show()\n",
    "\n",
    "df.filter((df.page=='NextSong')&(col('churn_phase')==0)).select('userId', 'page', 'ts')\\\n",
    "    .withColumn('date', get_day(col('ts'))).groupBy('userId', 'date').count().describe().show()"
   ]
  },
  {
   "cell_type": "code",
   "execution_count": 19,
   "metadata": {},
   "outputs": [
    {
     "name": "stdout",
     "output_type": "stream",
     "text": [
      "+-------+------------------+\n",
      "|summary|       count(page)|\n",
      "+-------+------------------+\n",
      "|  count|                30|\n",
      "|   mean|1.0666666666666667|\n",
      "| stddev|0.2537081317024624|\n",
      "|    min|                 1|\n",
      "|    max|                 2|\n",
      "+-------+------------------+\n",
      "\n",
      "+-------+-------------------+\n",
      "|summary|        count(page)|\n",
      "+-------+-------------------+\n",
      "|  count|                200|\n",
      "|   mean|                1.1|\n",
      "| stddev|0.31702131247412063|\n",
      "|    min|                  1|\n",
      "|    max|                  3|\n",
      "+-------+-------------------+\n",
      "\n"
     ]
    }
   ],
   "source": [
    "#number of songs couldn't be played due to errors\n",
    "df.filter((df.page=='Error')&(df.churn_phase==1)).select('userId', 'page', 'ts', 'length')\\\n",
    "    .withColumn('date', get_day(col('ts')))\\\n",
    "    .groupBy('userId', 'date').agg({'page':'count'}).select('count(page)').describe().show()\n",
    "\n",
    "df.filter((df.page=='Error')&(df.churn_phase==0)).select('userId', 'page', 'ts', 'length')\\\n",
    "    .withColumn('date', get_day(col('ts')))\\\n",
    "    .groupBy('userId', 'date').agg({'page':'count'}).select('count(page)').describe().show()"
   ]
  },
  {
   "cell_type": "code",
   "execution_count": 20,
   "metadata": {},
   "outputs": [
    {
     "name": "stdout",
     "output_type": "stream",
     "text": [
      "31 21\n"
     ]
    }
   ],
   "source": [
    "#who cancelled subscriptions both free and paid\n",
    "print(df.filter((df.page=='Cancellation Confirmation') & (df.level=='paid')).count(),\n",
    "df.filter((df.page=='Cancellation Confirmation') & (df.level=='free')).count())"
   ]
  },
  {
   "cell_type": "code",
   "execution_count": 21,
   "metadata": {},
   "outputs": [
    {
     "name": "stdout",
     "output_type": "stream",
     "text": [
      "49 52\n"
     ]
    }
   ],
   "source": [
    "#number of users who downgraded\n",
    "#number of users to cancel\n",
    "print(df.filter(col('downgraded')==1).select('userId').dropDuplicates().count(), \n",
    "      df.filter(col('cancelled')==1).select('userId').dropDuplicates().count())"
   ]
  },
  {
   "cell_type": "code",
   "execution_count": 22,
   "metadata": {},
   "outputs": [
    {
     "data": {
      "text/plain": [
       "9"
      ]
     },
     "execution_count": 22,
     "metadata": {},
     "output_type": "execute_result"
    }
   ],
   "source": [
    "#users who downgraded and cancelled\n",
    "df.select(['userId', 'downgraded', 'cancelled'])\\\n",
    "    .groupBy('userId').sum()\\\n",
    "    .withColumnRenamed('sum(downgraded)', 'downgraded')\\\n",
    "    .withColumnRenamed('sum(cancelled)', 'cancelled')\\\n",
    "    .filter((col(\"downgraded\")==1)&(col(\"cancelled\")==1))\\\n",
    "    .count()"
   ]
  },
  {
   "cell_type": "code",
   "execution_count": 24,
   "metadata": {},
   "outputs": [
    {
     "name": "stdout",
     "output_type": "stream",
     "text": [
      "+-------+-----------------+------------------+\n",
      "|summary|           userId|       count(page)|\n",
      "+-------+-----------------+------------------+\n",
      "|  count|              171|               171|\n",
      "|   mean|62613.21052631579|1.3976608187134503|\n",
      "| stddev| 88778.9002607509|0.8078987426633197|\n",
      "|    min|           100001|                 1|\n",
      "|    max|               87|                 6|\n",
      "+-------+-----------------+------------------+\n",
      "\n",
      "+-------+------------------+------------------+\n",
      "|summary|            userId|       count(page)|\n",
      "+-------+------------------+------------------+\n",
      "|  count|               816|               816|\n",
      "|   mean| 63176.38602941176|1.4889705882352942|\n",
      "| stddev|115512.27837413888|0.8636495080491383|\n",
      "|    min|                10|                 1|\n",
      "|    max|                99|                 8|\n",
      "+-------+------------------+------------------+\n",
      "\n"
     ]
    }
   ],
   "source": [
    "#number of times user opted for help\n",
    "df.filter((df.page=='Help')&(df.churn_phase==1)).select('userId', 'page', 'ts', 'length')\\\n",
    "    .withColumn('date', get_day(col('ts')))\\\n",
    "    .groupBy('userId', 'date').agg({'page':'count'}).describe().show()\n",
    "\n",
    "df.filter((df.page=='Help')&(df.churn_phase==0)).select('userId', 'page', 'ts', 'length')\\\n",
    "    .withColumn('date', get_day(col('ts')))\\\n",
    "    .groupBy('userId', 'date').agg({'page':'count'}).describe().show()"
   ]
  },
  {
   "cell_type": "code",
   "execution_count": 25,
   "metadata": {},
   "outputs": [
    {
     "data": {
      "text/plain": [
       "43"
      ]
     },
     "execution_count": 25,
     "metadata": {},
     "output_type": "execute_result"
    }
   ],
   "source": [
    "#number of users to cancel w/o downgrade\n",
    "df.select(['userId', 'downgraded', 'cancelled'])\\\n",
    "    .groupBy('userId').sum()\\\n",
    "    .withColumnRenamed('sum(downgraded)', 'downgraded')\\\n",
    "    .withColumnRenamed('sum(cancelled)', 'cancelled')\\\n",
    "    .filter((col(\"downgraded\")==0)&(col(\"cancelled\")==1))\\\n",
    "    .count()"
   ]
  },
  {
   "cell_type": "code",
   "execution_count": 26,
   "metadata": {},
   "outputs": [
    {
     "name": "stdout",
     "output_type": "stream",
     "text": [
      "31\n"
     ]
    }
   ],
   "source": [
    "#number of paid users to drop without downgrading -> big chunk of those\n",
    "print(df.filter((col('cancelled')==1) & (col('downgraded')==0) & (col('level')=='paid'))\\\n",
    "      .select('userId').dropDuplicates().count())"
   ]
  },
  {
   "cell_type": "code",
   "execution_count": 27,
   "metadata": {},
   "outputs": [
    {
     "name": "stdout",
     "output_type": "stream",
     "text": [
      "+-----------+\n",
      "|avg(length)|\n",
      "+-----------+\n",
      "|       null|\n",
      "+-----------+\n",
      "\n",
      "+-----------------+\n",
      "|      avg(length)|\n",
      "+-----------------+\n",
      "|249.1171819778458|\n",
      "+-----------------+\n",
      "\n"
     ]
    }
   ],
   "source": [
    "#find those who done have diff listening habits?\n",
    "df.filter(col('cancelled')==1).agg({'length':'mean'}).show()\n",
    "df.filter(col('cancelled')==0).agg({'length':'mean'}).show()"
   ]
  },
  {
   "cell_type": "code",
   "execution_count": 28,
   "metadata": {},
   "outputs": [
    {
     "name": "stderr",
     "output_type": "stream",
     "text": [
      "UsageError: Line magic function `%matplot` not found.\n"
     ]
    },
    {
     "data": {
      "image/png": "[encoded data removed]",
      "text/plain": [
       "<matplotlib.figure.Figure at 0x7fcc95c99cf8>"
      ]
     },
     "metadata": {
      "needs_background": "light"
     },
     "output_type": "display_data"
    }
   ],
   "source": [
    "# Plotting a bar plot to show difference between Paid/Free customers churn\n",
    "fig, ax = plt.subplots(figsize=(5, 5))\n",
    "\n",
    "df_level_pd = df.filter('page == \"Cancellation Confirmation\"').groupby('level').count().toPandas()\n",
    "plt.title('Paid/Free customers churn')\n",
    "sns.barplot(data = df_level_pd, x = 'level', y = 'count', color = sns.color_palette()[1])\n",
    "\n",
    "ax.set(xticklabels=['Free Subscriptions', 'Paid Subscriptions'])\n",
    "\n",
    "ax.set_ylabel('Count')\n",
    "ax.set_xlabel('User Level')\n",
    "ax.legend()\n",
    "\n",
    "%matplot plt"
   ]
  },
  {
   "cell_type": "code",
   "execution_count": 29,
   "metadata": {},
   "outputs": [],
   "source": [
    "# Drop missing userId and sessionId\n",
    "df = df.dropna(how = 'any', subset = ['userId','sessionId'])\n",
    "df = df[df.userId != \"\"]"
   ]
  },
  {
   "cell_type": "code",
   "execution_count": 30,
   "metadata": {},
   "outputs": [],
   "source": [
    "# add downgrade flag\n",
    "df = df.withColumn('downgrade', when(df.page == 'Submit Downgrade', 1).otherwise(0))\n",
    "df = df.withColumn('user_downgrade', Fmax('downgrade').over(Window.partitionBy('UserId')))\n",
    "\n",
    "# add churn\n",
    "df = df.withColumn('churn', when(df.page == 'Cancellation Confirmation', 1).otherwise(0))\n",
    "df = df.withColumn('user_churn', Fmax('churn').over(Window.partitionBy('UserId')))\n"
   ]
  },
  {
   "cell_type": "code",
   "execution_count": 31,
   "metadata": {},
   "outputs": [
    {
     "name": "stderr",
     "output_type": "stream",
     "text": [
      "UsageError: Line magic function `%matplot` not found.\n"
     ]
    },
    {
     "data": {
      "image/png": "[encoded data removed]",
      "text/plain": [
       "<matplotlib.figure.Figure at 0x7fccc6944898>"
      ]
     },
     "metadata": {
      "needs_background": "light"
     },
     "output_type": "display_data"
    }
   ],
   "source": [
    "churn_gender_df = df.drop_duplicates(['userId', 'gender']).groupby(['user_churn', 'gender']).count().toPandas()\n",
    "churn_gender_df\n",
    "\n",
    "\n",
    "\n",
    "# Plotting a bar plot to show gender distribution between regular and churn users\n",
    "fig, ax = plt.subplots(figsize=(5, 5))\n",
    "plt.title('Regular and churn Users by Gender')\n",
    "ax = sns.barplot(x = 'user_churn', y = 'count', data = churn_gender_df, hue = 'gender')\n",
    "\n",
    "ax.set(xticklabels=['Not Churned', 'Churned'])\n",
    "\n",
    "ax.set_ylabel('Count')\n",
    "ax.set_xlabel('User Churn')\n",
    "ax.legend()\n",
    "\n",
    "%matplot plt"
   ]
  },
  {
   "cell_type": "markdown",
   "metadata": {},
   "source": [
    "# Feature Engineering\n",
    "Once you've familiarized yourself with the data, build out the features you find promising to train your model on. To work with the full dataset, you can follow the following steps.\n",
    "- Write a script to extract the necessary features from the smaller subset of data\n",
    "- Ensure that your script is scalable, using the best practices discussed in Lesson 3\n",
    "- Try your script on the full data set, debugging your script if necessary\n",
    "\n",
    "If you are working in the classroom workspace, you can just extract features based on the small subset of data contained here. Be sure to transfer over this work to the larger dataset when you work on your Spark cluster."
   ]
  },
  {
   "cell_type": "code",
   "execution_count": 32,
   "metadata": {},
   "outputs": [],
   "source": [
    "def feature_engineering(filepath):\n",
    "    '''\n",
    "    Create necessary features to use machine learning algorithms.\n",
    "    First loads data set from file\n",
    "    \n",
    "    Resulting DF Strucutre:\n",
    "    \n",
    "    root\n",
    "     |-- userId: string\n",
    "     |-- downgraded: long\n",
    "     |-- cancelled: long\n",
    "     |-- visited_cancel: long\n",
    "     |-- visited_downgrade: long\n",
    "     |-- dailyHelpVisits: double\n",
    "     |-- dailyErrors: double\n",
    "     |-- free: integer\n",
    "     |-- paid: integer\n",
    "     |-- avgThumbsUp: double\n",
    "     |-- avgThumbsDOwn: double\n",
    "     |-- numFriends: long\n",
    "     |-- avgSongsTillHome: double\n",
    "     |-- avgTimeSkipped: double\n",
    "     |-- skipRate: double\n",
    "    \n",
    "    Inputs\n",
    "        filepath (str) - path to json dataset on file\n",
    "        \n",
    "    Outputs\n",
    "        data - engineered dataset\n",
    "    '''\n",
    "    #dataframe of user ids to merge onto\n",
    "    df = spark.read.json(filepath)\n",
    "    users = df.where((df.userId != \"\") | (df.sessionId != \"\"))\\\n",
    "        .select('userId').dropDuplicates()\n",
    "    \n",
    "    #define custom functions\n",
    "    churn = udf(lambda x: int(x==\"Cancellation Confirmation\"), IntegerType())\n",
    "    downgrade_churn = udf(lambda x: int(x==\"Submit Downgrade\"), IntegerType())\n",
    "    visited_downgrade = udf(lambda x: int(x=='Downgrade'), IntegerType())\n",
    "    visited_cancel = udf(lambda x: int(x=='Cancel'), IntegerType())\n",
    "    song = udf(lambda x: int(x=='NextSong'), IntegerType())\n",
    "    days = lambda i: i * 86400 \n",
    "    get_day = udf(lambda x: datetime.datetime.fromtimestamp(x/1000), DateType())\n",
    "    skipped = udf(lambda x: int(x!=0), IntegerType())\n",
    "    free = udf(lambda x: int(x=='free'), IntegerType())\n",
    "    paid = udf(lambda x: int(x=='paid'), IntegerType())\n",
    "    home_visit=udf(lambda x : int(x=='Home'), IntegerType())\n",
    "    \n",
    "    #define windows\n",
    "    windowval = Window.partitionBy(\"userId\").orderBy(desc(\"ts\")).rangeBetween(Window.unboundedPreceding, 0)\n",
    "    session = Window.partitionBy(\"userId\", \"sessionId\").orderBy(desc(\"ts\"))\n",
    "    daywindow = Window.partitionBy('userId', 'date').orderBy(desc('ts'))\\\n",
    "        .rangeBetween(Window.unboundedPreceding, 0)\n",
    "\n",
    "    avgThumbsUp = df.filter(df.page=='Thumbs Up')\\\n",
    "        .select('userId', 'page', 'ts')\\\n",
    "        .withColumn('date', get_day(col('ts')))\\\n",
    "        .groupBy('userId', 'date').agg({'page':'count'}).groupBy('userId')\\\n",
    "        .mean().withColumnRenamed('avg(count(page))', 'avgThumbsUp')\n",
    "    \n",
    "    avgThumbsDown = df.filter(df.page=='Thumbs Down')\\\n",
    "        .select('userId', 'page', 'ts')\\\n",
    "        .withColumn('date', get_day(col('ts')))\\\n",
    "        .groupBy('userId', 'date').agg({'page':'count'})\\\n",
    "        .groupBy('userId').mean()\\\n",
    "        .withColumnRenamed('avg(count(page))', 'avgThumbsDown')\n",
    "    \n",
    "    numFriends = df.filter(df.page=='Add Friend')\\\n",
    "        .select('userId', 'page')\\\n",
    "        .groupBy('userId').count().withColumnRenamed('count', 'numFriends')\n",
    "    \n",
    "    '''\n",
    "    process for calculating skipping variables\n",
    "\n",
    "    1. dont include thumbs up and down pages because that usually occurs \n",
    "        while playing and does not change song\n",
    "    2. create variable for if action is song\n",
    "    3. check if next action is song - this will check to see if someone is \n",
    "        skipping song or just leaving page\n",
    "    4. get the difference in timestamp for next action song playing\n",
    "    5. subtract the difference in timestamp from song length to see \n",
    "        how much of song was skipped\n",
    "    6. get descriptive stats\n",
    "    '''\n",
    "\n",
    "    skipping = df.select('userId', 'page', 'ts', 'length', 'sessionId', 'itemInSession')\\\n",
    "        .where((df.page != 'Thumbs Up') & (df.page != 'Thumbs Down'))\\\n",
    "        .withColumn('song', song('page')).orderBy('userId', 'sessionId', 'itemInSession')\\\n",
    "        .withColumn('nextActSong', lag(col('song')).over(session))\\\n",
    "        .withColumn('tsDiff', (lag('ts').over(session)-col('ts'))/1000)\\\n",
    "        .withColumn('timeSkipped', (floor('length')-col('tsDiff')))\\\n",
    "        .withColumn('roundedLength', floor('length'))\\\n",
    "        .where((col('song')==1) & ((col('nextActSong')!=0)&(col('timeSkipped')>=0)))\\\n",
    "        .withColumn('skipped', skipped('timeSkipped'))\\\n",
    "        .select('userId', 'timeSkipped', 'skipped', 'length', 'ts', 'tsDiff')\\\n",
    "        .groupBy('userId').agg({'skipped':'avg', 'timeSkipped':'avg'})\\\n",
    "        .withColumnRenamed('avg(skipped)', 'skipRate')\\\n",
    "        .withColumnRenamed('avg(timeSkipped)', 'avgTimeSkipped')\n",
    "    \n",
    "#avg daily visits to help site\n",
    "    dailyHelpVisit = df.filter(df.page=='Help')\\\n",
    "        .select('userId', 'page', 'ts', 'length')\\\n",
    "        .withColumn('date', get_day(col('ts')))\\\n",
    "        .groupBy('userId', 'date').agg({'page':'count'})\\\n",
    "        .groupBy('userId').mean()\\\n",
    "         .withColumnRenamed('avg(count(page))', 'dailyHelpVisits')\n",
    "\n",
    "    dailyErrors = df.filter(df.page=='Error')\\\n",
    "        .select('userId', 'page', 'ts', 'length')\\\n",
    "        .withColumn('date', get_day(col('ts')))\\\n",
    "        .groupBy('userId', 'date').agg({'page':'count'})\\\n",
    "        .groupBy('userId').mean()\\\n",
    "        .withColumnRenamed('avg(count(page))', 'dailyErrors')\n",
    "    \n",
    "    #whether a user has downgraded\n",
    "    churn = df.withColumn(\"downgraded\", downgrade_churn(\"page\"))\\\n",
    "        .withColumn(\"cancelled\", churn(\"page\"))\\\n",
    "        .withColumn('visited_cancel', visited_cancel('page'))\\\n",
    "        .withColumn('visited_downgrade', visited_downgrade('page'))\\\n",
    "        .select(['userId', 'downgraded', 'cancelled', 'visited_cancel', 'visited_downgrade'])\\\n",
    "        .groupBy('userId').sum()\\\n",
    "        .withColumnRenamed('sum(downgraded)', 'downgraded')\\\n",
    "        .withColumnRenamed('sum(cancelled)', 'cancelled')\\\n",
    "        .withColumnRenamed('sum(visited_cancel)', 'visited_cancel')\\\n",
    "        .withColumnRenamed('sum(visited_downgrade)', 'visited_downgrade')\n",
    "\n",
    "    user_level = df.select('userId', 'level')\\\n",
    "        .where((df.level=='free')|(df.level=='paid'))\\\n",
    "        .dropDuplicates()\\\n",
    "        .withColumn('free', free('level'))\\\n",
    "        .withColumn('paid', paid('level')).drop('level')\n",
    "\n",
    "    cusum = df.filter((df.page == 'NextSong') | (df.page == 'Home')) \\\n",
    "        .select('userID', 'page', 'ts') \\\n",
    "        .withColumn('homevisit', home_visit(col('page'))) \\\n",
    "        .withColumn('songPeriod', Fsum('homevisit').over(windowval))\\\n",
    "    \n",
    "    avgSongsTillHome = cusum.filter((cusum.page=='NextSong'))\\\n",
    "        .groupBy('userId', 'songPeriod')\\\n",
    "        .agg({'songPeriod':'count'}).drop('songPeriod')\\\n",
    "        .groupby('userId').mean()\\\n",
    "        .withColumnRenamed('avg(count(songPeriod))', 'avgSongsTillHome')\n",
    "    \n",
    "    df = users.join(churn, on='userId')\\\n",
    "        .join(dailyHelpVisit, on='userId')\\\n",
    "        .join(dailyErrors, on='userId')\\\n",
    "        .join(user_level, on='userId')\\\n",
    "        .join(avgThumbsUp, on='userId')\\\n",
    "        .join(avgThumbsDown, on='userId')\\\n",
    "        .join(numFriends, on='userId')\\\n",
    "        .join(avgSongsTillHome, on='userId')\\\n",
    "        .join(skipping, on='userId')\n",
    "    \n",
    "    return df"
   ]
  },
  {
   "cell_type": "code",
   "execution_count": 33,
   "metadata": {},
   "outputs": [],
   "source": [
    "def feature_scaling(df):\n",
    "    feature_cols = df.drop('userId', 'cancelled').columns\n",
    "    assembler = VectorAssembler(inputCols=feature_cols,\\\n",
    "                                outputCol='feature_vec')\n",
    "    \n",
    "    #pyspark.ml expects target column to be names: 'labelCol', w/ type: Double\n",
    "    df = df.withColumn(\"label\", df[\"cancelled\"].cast(DoubleType()))\n",
    "    \n",
    "    #pyspark default name for features vector column: 'featuresCol'\n",
    "    minmaxscaler = MinMaxScaler(inputCol=\"feature_vec\", outputCol=\"features\")\n",
    "    \n",
    "    df = assembler.transform(df)\n",
    "    minmaxscaler_model = minmaxscaler.fit(df)\n",
    "    scaled_df = minmaxscaler_model.transform(df)\n",
    "    return scaled_df"
   ]
  },
  {
   "cell_type": "markdown",
   "metadata": {},
   "source": [
    "# Modeling\n",
    "Split the full dataset into train, test, and validation sets. Test out several of the machine learning methods you learned. Evaluate the accuracy of the various models, tuning parameters as necessary. Determine your winning model based on test accuracy and report results on the validation set. Since the churned users are a fairly small subset, I suggest using F1 score as the metric to optimize."
   ]
  },
  {
   "cell_type": "code",
   "execution_count": 34,
   "metadata": {},
   "outputs": [
    {
     "data": {
      "text/plain": [
       "DataFrame[userId: string, downgraded: bigint, cancelled: bigint, visited_cancel: bigint, visited_downgrade: bigint, dailyHelpVisits: double, dailyErrors: double, free: int, paid: int, avgThumbsUp: double, avgThumbsDown: double, numFriends: bigint, avgSongsTillHome: double, avgTimeSkipped: double, skipRate: double, label: double, feature_vec: vector, features: vector]"
      ]
     },
     "execution_count": 34,
     "metadata": {},
     "output_type": "execute_result"
    }
   ],
   "source": [
    "data_small = feature_engineering(\"mini_sparkify_event_data.json\")\n",
    "data_small = feature_scaling(data_small)\n",
    "data_small.persist()"
   ]
  },
  {
   "cell_type": "code",
   "execution_count": 35,
   "metadata": {},
   "outputs": [
    {
     "data": {
      "text/plain": [
       "[Row(userId='124', downgraded=0, cancelled=0, visited_cancel=0, visited_downgrade=41, dailyHelpVisits=1.4375, dailyErrors=1.2, free=0, paid=1, avgThumbsUp=5.896551724137931, avgThumbsDown=1.8636363636363635, numFriends=74, avgSongsTillHome=24.4251497005988, avgTimeSkipped=0.0, skipRate=0.0, label=0.0, feature_vec=DenseVector([0.0, 0.0, 41.0, 1.4375, 1.2, 0.0, 1.0, 5.8966, 1.8636, 74.0, 24.4251, 0.0, 0.0]), features=DenseVector([0.0, 0.0, 0.5616, 0.1458, 0.2, 0.0, 1.0, 0.5494, 0.2879, 0.5141, 0.5035, 0.5, 0.5]))]"
      ]
     },
     "execution_count": 35,
     "metadata": {},
     "output_type": "execute_result"
    }
   ],
   "source": [
    "data_small.take(1)"
   ]
  },
  {
   "cell_type": "code",
   "execution_count": 36,
   "metadata": {},
   "outputs": [],
   "source": [
    "train, rest = data_small.randomSplit([0.85, 0.15], seed=42)\n",
    "validation, test = rest.randomSplit([0.5,0.5], seed=42)"
   ]
  },
  {
   "cell_type": "code",
   "execution_count": 37,
   "metadata": {},
   "outputs": [],
   "source": [
    "pr = BinaryClassificationEvaluator(metricName='areaUnderPR')\n",
    "roc = BinaryClassificationEvaluator(metricName='areaUnderROC')"
   ]
  },
  {
   "cell_type": "code",
   "execution_count": 38,
   "metadata": {},
   "outputs": [],
   "source": [
    "def custom_evaluation(pred, model_name):\n",
    "    '''\n",
    "    Perform custom evaluation of predictions\n",
    "    \n",
    "    1. inspect with PySpark.ML evaluator (will use for pipeline)\n",
    "    2. use RDD-API; PySpark.MLLib to get metrics based on predictions \n",
    "    3. display confusion matrix\n",
    "    \n",
    "    Inputs\n",
    "        preds(PySpark.ml.DataFrame) - predictions from model\n",
    "    '''\n",
    "    \n",
    "    pr = BinaryClassificationEvaluator(metricName='areaUnderPR')\n",
    "    \n",
    "    pr_auc=pr.evaluate(pred)\n",
    "    \n",
    "    print(f\"{model_name} -> PR AUC: {pr_auc}\")\n",
    "    \n",
    "    predictionRDD = pred.select(['label', 'prediction']).rdd\\\n",
    "                        .map(lambda line: (line[1], line[0]))\n",
    "    metrics = MulticlassMetrics(predictionRDD)\n",
    "\n",
    "    print(f\"{model_name}\\n | precision = {metrics.precision()}\")\n",
    "    print(f\" | recall = {metrics.recall()}\\n | F1-Score = {metrics.fMeasure()}\")\n",
    "    \n",
    "    conf_matrix = metrics.confusionMatrix().toArray()\n",
    "    sns.set(font_scale=1.4)#for label size\n",
    "    ax = sns.heatmap(conf_matrix, annot=True,annot_kws={\"size\": 16})\n",
    "    ax.set(xlabel='Predicted Label', ylabel='True Label', title='Confusion Mtx')\n",
    "    plt.show()"
   ]
  },
  {
   "cell_type": "code",
   "execution_count": 39,
   "metadata": {},
   "outputs": [
    {
     "name": "stdout",
     "output_type": "stream",
     "text": [
      "Random Forest -> PR AUC: 1.0\n",
      "Random Forest\n",
      " | precision = 1.0\n",
      " | recall = 1.0\n",
      " | F1-Score = 1.0\n"
     ]
    },
    {
     "data": {
      "image/png": "[encoded data removed]",
      "text/plain": [
       "<matplotlib.figure.Figure at 0x7fcc951851d0>"
      ]
     },
     "metadata": {},
     "output_type": "display_data"
    }
   ],
   "source": [
    "#random forest classifier model\n",
    "rf = RandomForestClassifier(numTrees=10)\n",
    "rf_model = rf.fit(train)\n",
    "rf_preds = rf_model.transform(validation)\n",
    "custom_evaluation(rf_preds, 'Random Forest')"
   ]
  },
  {
   "cell_type": "code",
   "execution_count": 40,
   "metadata": {},
   "outputs": [
    {
     "name": "stdout",
     "output_type": "stream",
     "text": [
      "Gradient Boosted Trees -> PR AUC: 1.0\n",
      "Gradient Boosted Trees\n",
      " | precision = 1.0\n",
      " | recall = 1.0\n",
      " | F1-Score = 1.0\n"
     ]
    },
    {
     "data": {
      "image/png": "[encoded data removed]",
      "text/plain": [
       "<matplotlib.figure.Figure at 0x7fcc95a8dc50>"
      ]
     },
     "metadata": {},
     "output_type": "display_data"
    }
   ],
   "source": [
    "#Gradient boosted trees\n",
    "gbtrees = GBTClassifier(maxIter=10)\n",
    "gbtree_model = gbtrees.fit(train)\n",
    "gbtree_preds = gbtree_model.transform(validation)\n",
    "custom_evaluation(gbtree_preds, 'Gradient Boosted Trees')"
   ]
  },
  {
   "cell_type": "code",
   "execution_count": 41,
   "metadata": {},
   "outputs": [
    {
     "name": "stdout",
     "output_type": "stream",
     "text": [
      "Logistic Regression -> PR AUC: 1.0\n",
      "Logistic Regression\n",
      " | precision = 0.4\n",
      " | recall = 0.4\n",
      " | F1-Score = 0.4\n"
     ]
    },
    {
     "data": {
      "image/png": "[encoded data removed]",
      "text/plain": [
       "<matplotlib.figure.Figure at 0x7fcc948b8dd8>"
      ]
     },
     "metadata": {},
     "output_type": "display_data"
    }
   ],
   "source": [
    "#logistic regression model\n",
    "logReg = LogisticRegression(maxIter=10, regParam=0.3, elasticNetParam=0.8)\n",
    "lrModel = logReg.fit(train)\n",
    "lr_preds = lrModel.transform(validation)\n",
    "custom_evaluation(lr_preds, 'Logistic Regression')"
   ]
  },
  {
   "cell_type": "code",
   "execution_count": 42,
   "metadata": {},
   "outputs": [
    {
     "name": "stdout",
     "output_type": "stream",
     "text": [
      "Support Vector Machine -> PR AUC: 1.0\n",
      "Support Vector Machine\n",
      " | precision = 1.0\n",
      " | recall = 1.0\n",
      " | F1-Score = 1.0\n"
     ]
    },
    {
     "data": {
      "image/png": "[encoded data removed]",
      "text/plain": [
       "<matplotlib.figure.Figure at 0x7fcc9487ac18>"
      ]
     },
     "metadata": {},
     "output_type": "display_data"
    }
   ],
   "source": [
    "#SVM\n",
    "svm = LinearSVC(maxIter=10, regParam=0.1)\n",
    "svm_model=svm.fit(train)\n",
    "svm_preds=svm_model.transform(validation)\n",
    "custom_evaluation(svm_preds, 'Support Vector Machine')"
   ]
  },
  {
   "cell_type": "code",
   "execution_count": 57,
   "metadata": {},
   "outputs": [
    {
     "name": "stdout",
     "output_type": "stream",
     "text": [
      "+--------------------+--------------------+----------+-----+\n",
      "|            features|       rawPrediction|prediction|label|\n",
      "+--------------------+--------------------+----------+-----+\n",
      "|[0.0,1.0,0.315068...|[-0.9771510091968...|       1.0|  1.0|\n",
      "|[0.33333333333333...|[-1.4067021398948...|       1.0|  1.0|\n",
      "|[0.0,1.0,0.054794...|[-1.6442177020221...|       1.0|  1.0|\n",
      "|[0.33333333333333...|[1.45283571752417...|       0.0|  0.0|\n",
      "|[0.0,0.0,0.082191...|[1.13995243762261...|       0.0|  0.0|\n",
      "+--------------------+--------------------+----------+-----+\n",
      "\n",
      "+--------------------+--------------------+----------+-----+\n",
      "|            features|       rawPrediction|prediction|label|\n",
      "+--------------------+--------------------+----------+-----+\n",
      "|[0.0,1.0,0.315068...|[0.29836075425595...|       0.0|  1.0|\n",
      "|[0.33333333333333...|[0.29836075425595...|       0.0|  1.0|\n",
      "|[0.0,1.0,0.054794...|[0.29836075425595...|       0.0|  1.0|\n",
      "|[0.33333333333333...|[1.86307471057955...|       0.0|  0.0|\n",
      "|[0.0,0.0,0.082191...|[1.86307471057955...|       0.0|  0.0|\n",
      "+--------------------+--------------------+----------+-----+\n",
      "\n",
      "+--------------------+--------------------+----------+-----+\n",
      "|            features|       rawPrediction|prediction|label|\n",
      "+--------------------+--------------------+----------+-----+\n",
      "|[0.0,1.0,0.315068...|[-1.3259026792203...|       1.0|  1.0|\n",
      "|[0.33333333333333...|[-1.3259026792203...|       1.0|  1.0|\n",
      "|[0.0,1.0,0.054794...|[-1.3259026792203...|       1.0|  1.0|\n",
      "|[0.33333333333333...|[1.32590267922033...|       0.0|  0.0|\n",
      "|[0.0,0.0,0.082191...|[1.32590267922033...|       0.0|  0.0|\n",
      "+--------------------+--------------------+----------+-----+\n",
      "\n",
      "+--------------------+--------------------+----------+-----+\n",
      "|            features|       rawPrediction|prediction|label|\n",
      "+--------------------+--------------------+----------+-----+\n",
      "|[0.0,1.0,0.315068...|[0.92537313432835...|       1.0|  1.0|\n",
      "|[0.33333333333333...|          [0.0,10.0]|       1.0|  1.0|\n",
      "|[0.0,1.0,0.054794...|          [0.0,10.0]|       1.0|  1.0|\n",
      "|[0.33333333333333...|          [10.0,0.0]|       0.0|  0.0|\n",
      "|[0.0,0.0,0.082191...|[9.92537313432835...|       0.0|  0.0|\n",
      "+--------------------+--------------------+----------+-----+\n",
      "\n"
     ]
    }
   ],
   "source": [
    "#visual check for predictions\n",
    "for x in [svm_preds, lr_preds, gbtree_preds, rf_preds]:\n",
    "    x.select('features', 'rawPrediction', 'prediction', 'label').show()"
   ]
  },
  {
   "cell_type": "code",
   "execution_count": 58,
   "metadata": {},
   "outputs": [
    {
     "name": "stdout",
     "output_type": "stream",
     "text": [
      "DataFrame[userId: string, downgraded: bigint, cancelled: bigint, visited_cancel: bigint, visited_downgrade: bigint, dailyHelpVisits: double, dailyErrors: double, free: int, paid: int, avgThumbsUp: double, avgThumbsDown: double, numFriends: bigint, avgSongsTillHome: double, avgTimeSkipped: double, skipRate: double, label: double, feature_vec: vector, features: vector, rawPrediction: vector, prediction: double] 1.0\n",
      "DataFrame[userId: string, downgraded: bigint, cancelled: bigint, visited_cancel: bigint, visited_downgrade: bigint, dailyHelpVisits: double, dailyErrors: double, free: int, paid: int, avgThumbsUp: double, avgThumbsDown: double, numFriends: bigint, avgSongsTillHome: double, avgTimeSkipped: double, skipRate: double, label: double, feature_vec: vector, features: vector, rawPrediction: vector, probability: vector, prediction: double] 1.0\n",
      "DataFrame[userId: string, downgraded: bigint, cancelled: bigint, visited_cancel: bigint, visited_downgrade: bigint, dailyHelpVisits: double, dailyErrors: double, free: int, paid: int, avgThumbsUp: double, avgThumbsDown: double, numFriends: bigint, avgSongsTillHome: double, avgTimeSkipped: double, skipRate: double, label: double, feature_vec: vector, features: vector, rawPrediction: vector, probability: vector, prediction: double] 1.0\n",
      "DataFrame[userId: string, downgraded: bigint, cancelled: bigint, visited_cancel: bigint, visited_downgrade: bigint, dailyHelpVisits: double, dailyErrors: double, free: int, paid: int, avgThumbsUp: double, avgThumbsDown: double, numFriends: bigint, avgSongsTillHome: double, avgTimeSkipped: double, skipRate: double, label: double, feature_vec: vector, features: vector, rawPrediction: vector, probability: vector, prediction: double] 1.0\n"
     ]
    }
   ],
   "source": [
    "# Evaluate model\n",
    "evaluator = BinaryClassificationEvaluator(rawPredictionCol=\"rawPrediction\", metricName = 'areaUnderPR')\n",
    "for x in [svm_preds, lr_preds, gbtree_preds, rf_preds]:\n",
    "    print(x,evaluator.evaluate(x))"
   ]
  },
  {
   "cell_type": "markdown",
   "metadata": {},
   "source": [
    "# Final Steps\n",
    "Clean up your code, adding comments and renaming variables to make the code easier to read and maintain. Refer to the Spark Project Overview page and Data Scientist Capstone Project Rubric to make sure you are including all components of the capstone project and meet all expectations. Remember, this includes thorough documentation in a README file in a Github repository, as well as a web app or blog post."
   ]
  },
  {
   "cell_type": "code",
   "execution_count": null,
   "metadata": {},
   "outputs": [],
   "source": []
  }
 ],
 "metadata": {
  "kernelspec": {
   "display_name": "Python 3",
   "language": "python",
   "name": "python3"
  },
  "language_info": {
   "codemirror_mode": {
    "name": "ipython",
    "version": 3
   },
   "file_extension": ".py",
   "mimetype": "text/x-python",
   "name": "python",
   "nbconvert_exporter": "python",
   "pygments_lexer": "ipython3",
   "version": "3.6.3"
  }
 },
 "nbformat": 4,
 "nbformat_minor": 2
}
